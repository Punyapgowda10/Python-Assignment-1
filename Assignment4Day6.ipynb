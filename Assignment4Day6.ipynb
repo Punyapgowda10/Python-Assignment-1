{
 "cells": [
  {
   "cell_type": "code",
   "execution_count": 1,
   "metadata": {},
   "outputs": [],
   "source": [
    "class Bank():\n",
    "    def __init__ (self,owner,bank_balance=0):\n",
    "            self.owner = owner\n",
    "            self.bank_balance = bank_balance\n",
    "        \n",
    "    def deposit(self,bank_balance):\n",
    "            self.bank_balance+= bank_balance\n",
    "            return self.bank_balance\n",
    "    \n",
    "    def withdraw(self,bank_balance):\n",
    "            if self.bank_balance >= bank_balance:\n",
    "                self.bank_balance-= bank_balance\n",
    "            else:\n",
    "                return\"Not Possible only \" + str(self.bank_balance) + 'is available'\n",
    "            return self.bank_balance\n",
    "        \n",
    "            "
   ]
  },
  {
   "cell_type": "code",
   "execution_count": 4,
   "metadata": {},
   "outputs": [],
   "source": [
    "bank_account = Bank('bank_account',1000)"
   ]
  },
  {
   "cell_type": "code",
   "execution_count": 5,
   "metadata": {},
   "outputs": [
    {
     "data": {
      "text/plain": [
       "51000"
      ]
     },
     "execution_count": 5,
     "metadata": {},
     "output_type": "execute_result"
    }
   ],
   "source": [
    "bank_account.deposit(50000)"
   ]
  },
  {
   "cell_type": "code",
   "execution_count": 6,
   "metadata": {},
   "outputs": [
    {
     "data": {
      "text/plain": [
       "2000"
      ]
     },
     "execution_count": 6,
     "metadata": {},
     "output_type": "execute_result"
    }
   ],
   "source": [
    "bank_account.withdraw(49000)"
   ]
  },
  {
   "cell_type": "code",
   "execution_count": 8,
   "metadata": {},
   "outputs": [
    {
     "data": {
      "text/plain": [
       "'Not Possible only 2000is available'"
      ]
     },
     "execution_count": 8,
     "metadata": {},
     "output_type": "execute_result"
    }
   ],
   "source": [
    "bank_account.withdraw(7000)"
   ]
  },
  {
   "cell_type": "code",
   "execution_count": 15,
   "metadata": {},
   "outputs": [],
   "source": [
    "import math\n",
    "class cone():\n",
    "  def __init__(self,r=1,h=1):\n",
    "    self.r=r\n",
    "    self.h=h\n",
    "    self.volume=0\n",
    "    self.surfacearea_cone=0\n",
    "  def volume_cone(self):\n",
    "    self.volume=self.r*self.r*math.pi*(self.h/3)\n",
    "    return self.volume\n",
    "  def surface_area_cone(self):\n",
    "    base = math.pi*self.r*self.r\n",
    "    side = math.pi*self.r*math.sqrt(self.r**2+self.h**2)\n",
    "    self.surface_cone=base+side\n",
    "    return self.surface_cone"
   ]
  },
  {
   "cell_type": "code",
   "execution_count": 16,
   "metadata": {},
   "outputs": [],
   "source": [
    "cone=cone(3,5)"
   ]
  },
  {
   "cell_type": "code",
   "execution_count": 17,
   "metadata": {},
   "outputs": [
    {
     "data": {
      "text/plain": [
       "47.1238898038469"
      ]
     },
     "execution_count": 17,
     "metadata": {},
     "output_type": "execute_result"
    }
   ],
   "source": [
    "cone.volume_cone()"
   ]
  },
  {
   "cell_type": "code",
   "execution_count": 18,
   "metadata": {},
   "outputs": [
    {
     "data": {
      "text/plain": [
       "83.22976079115259"
      ]
     },
     "execution_count": 18,
     "metadata": {},
     "output_type": "execute_result"
    }
   ],
   "source": [
    "cone.surface_area_cone()"
   ]
  },
  {
   "cell_type": "code",
   "execution_count": null,
   "metadata": {},
   "outputs": [],
   "source": []
  }
 ],
 "metadata": {
  "kernelspec": {
   "display_name": "Python 3",
   "language": "python",
   "name": "python3"
  },
  "language_info": {
   "codemirror_mode": {
    "name": "ipython",
    "version": 3
   },
   "file_extension": ".py",
   "mimetype": "text/x-python",
   "name": "python",
   "nbconvert_exporter": "python",
   "pygments_lexer": "ipython3",
   "version": "3.8.3"
  }
 },
 "nbformat": 4,
 "nbformat_minor": 4
}
